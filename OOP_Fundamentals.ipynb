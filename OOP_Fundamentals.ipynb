{
  "nbformat": 4,
  "nbformat_minor": 0,
  "metadata": {
    "colab": {
      "provenance": [],
      "authorship_tag": "ABX9TyNOqpK6YrMkuolMBcrWpWpt",
      "include_colab_link": true
    },
    "kernelspec": {
      "name": "python3",
      "display_name": "Python 3"
    },
    "language_info": {
      "name": "python"
    }
  },
  "cells": [
    {
      "cell_type": "markdown",
      "metadata": {
        "id": "view-in-github",
        "colab_type": "text"
      },
      "source": [
        "<a href=\"https://colab.research.google.com/github/Hira990/Hira990/blob/main/OOP_Fundamentals.ipynb\" target=\"_parent\"><img src=\"https://colab.research.google.com/assets/colab-badge.svg\" alt=\"Open In Colab\"/></a>"
      ]
    },
    {
      "cell_type": "markdown",
      "source": [],
      "metadata": {
        "id": "Q7wqx1Nf48vJ"
      }
    },
    {
      "cell_type": "markdown",
      "source": [
        "Basics of Object-Oriented Programming\n",
        "\n",
        "Object-Oriented Programming (OOP) ek programming paradigm hai jo objects aur classes ke concept par based hota hai. OOP ko aise samjha ja sakta hai ke yeh ek tarika hai programming karne ka jo software design aur implementation ko objects use kark simplify karta hai.\n",
        "\n",
        "\n",
        "\n",
        "1. Objects and Classes\n",
        "\n",
        "Class: A class is a blueprint or template for creating objects. It defines a set of attributes and methods that the created objects will have.\n",
        "\n",
        "Class: Yeh ek blueprint hota hai jisme attributes aur methods ko define kiya jata hai.\n",
        "* Attributes wo properties hain jo class ke objects mein hoti hain.\n",
        "* Methods wo functions hain jo class ke objects perform karte hain.\n",
        "\n",
        "\n",
        "Object: An object is an instance of a class. When a class is defined, no memory is allocated until an object of that class is created.\n",
        "\n",
        "Object:\n",
        "Object class ka ek instance hota hai. Jab class define hoti hai, tu memory allocate nahi hoti jab tak object create nahi kiya jata.\n",
        "\n",
        "\n",
        "1. Class: Blueprint for objects.\n",
        "2. Object: Instance of a class.\n",
        "3. Encapsulation: Hiding internal details.\n",
        "4. Abstraction: Hiding complexity using simple interfaces.\n",
        "5. Inheritance: Reusing code from other classes.\n",
        "6. Polymorphism: Using a unified interface for different data types.\n",
        "\n"
      ],
      "metadata": {
        "id": "Y8dpT5FxuMas"
      }
    },
    {
      "cell_type": "code",
      "source": [
        "class Dog:\n",
        "    # Class attribute\n",
        "    species = \"Canis familiaris\"\n",
        "    name = \"Tommy\"\n",
        "    color = \"black\"\n",
        "\n",
        "# Creating an instance/object of Dog\n",
        "dog = Dog()\n",
        "\n",
        "# Accessing the name attribute of the instance\n",
        "print(dog.name)"
      ],
      "metadata": {
        "colab": {
          "base_uri": "https://localhost:8080/"
        },
        "id": "5moktzulBWTO",
        "outputId": "a8ee3f5e-1578-46cc-ca29-aa6bd6019adc"
      },
      "execution_count": null,
      "outputs": [
        {
          "output_type": "stream",
          "name": "stdout",
          "text": [
            "Tommy\n"
          ]
        }
      ]
    },
    {
      "cell_type": "markdown",
      "source": [
        "class Dog(name, species, color):\n",
        "    # Class attribute\n",
        "    species = \"Canis familiaris\"\n",
        "    name = \"Tommy\"\n",
        "    color = \"black\"\n",
        "\n",
        "# Creating an instance/object of Dog\n",
        "dog = Dog()\n",
        "\n",
        "# Accessing the name attribute of the instance\n",
        "print(dog.name)\n",
        "\n",
        "There are a couple of issues in code:\n",
        "\n",
        "The class definition syntax is incorrect.\n",
        "\n",
        "In Python, you cannot pass parameters directly in the class definition like a function.\n",
        "\n",
        "The class attributes species, name, and color are defined inside the class body but are also used as parameters, which is redundant and incorrect.\n",
        "\n",
        "To properly initialize an object with specific attributes, you need to define an __init__ method."
      ],
      "metadata": {
        "id": "3Y2cJZ_NCYsj"
      }
    },
    {
      "cell_type": "code",
      "source": [
        "class Dog:\n",
        "    # Class attribute\n",
        "    species = \"Canis familiaris\"\n",
        "\n",
        "    # Instance attributes\n",
        "    def __init__(self, name, color):\n",
        "        self.name = name\n",
        "        self.color = color\n",
        "\n",
        "# Creating an instance/object of Dog\n",
        "dog = Dog(\"Tommy\", \"black\")\n",
        "\n",
        "# Accessing the name attribute of the instance\n",
        "print(dog.name)"
      ],
      "metadata": {
        "colab": {
          "base_uri": "https://localhost:8080/"
        },
        "id": "u1RzFagKCAST",
        "outputId": "117780a6-eedc-4231-f884-7f01b835e6fd"
      },
      "execution_count": null,
      "outputs": [
        {
          "output_type": "stream",
          "name": "stdout",
          "text": [
            "Tommy\n"
          ]
        }
      ]
    },
    {
      "cell_type": "code",
      "source": [
        "class Dog:\n",
        "    # Class attribute\n",
        "    species = \"Canis familiaris\"\n",
        "    # Initializer / Instance attributes / Constructor\n",
        "    def __init__(self, name, age):\n",
        "        self.name = name\n",
        "        self.age = age\n",
        "\n",
        "# Create an instance of the Dog class\n",
        "my_dog = Dog(\"Buddy\", 3)\n",
        "print(my_dog.name)  # Output: Buddy\n",
        "print(my_dog.age)   # Output: 3\n",
        "print(my_dog.species)  # Output: Canis familiaris"
      ],
      "metadata": {
        "colab": {
          "base_uri": "https://localhost:8080/"
        },
        "id": "jIQ__g8EumPa",
        "outputId": "bf682c7d-aa6f-46c8-a53d-19651c7be9d3"
      },
      "execution_count": null,
      "outputs": [
        {
          "output_type": "stream",
          "name": "stdout",
          "text": [
            "Buddy\n",
            "3\n",
            "Canis familiaris\n"
          ]
        }
      ]
    },
    {
      "cell_type": "markdown",
      "source": [
        "\n",
        "\n",
        "* class Dog: Yeh ek class define karta hai jiska naam Dog hai.\n",
        "* species: Yeh class attribute hai jo har Dog object mein same hoga.\n",
        "* __init__: Yeh initializer method hai jo jab bhi naya object create\n",
        "  hota hai to run hota hai. Isme name aur age ko set kiya jata hai.\n",
        "* my_dog = Dog(\"Buddy\", 3): Yeh ek naya object create karta hai\n",
        "  jiska name \"Buddy\" aur age 3 hai.\n",
        "* print(my_dog.name), print(my_dog.age), print(my_dog.species): Yeh\n",
        "  attributes ko access karte hain aur unki values print karte hain."
      ],
      "metadata": {
        "id": "3950sUcfz0eL"
      }
    },
    {
      "cell_type": "markdown",
      "source": [
        "2. Four Pillars of OOP\n",
        "\n",
        "OOP is based on four main principles:\n",
        "\n",
        "Encapsulation\n",
        "\n",
        "Abstraction\n",
        "\n",
        "Inheritance\n",
        "\n",
        "Polymorphism\n",
        "\n",
        "Encapsulation\n",
        "\n",
        "Encapsulation is the mechanism of hiding the internal state of an object and requiring all interaction to be performed through an object's methods."
      ],
      "metadata": {
        "id": "RZBHvlD6uj7C"
      }
    },
    {
      "cell_type": "code",
      "source": [
        "class Person:\n",
        "    def __init__(self, name, age):\n",
        "        self.__name = name  # Private attribute\n",
        "        self.__age = age    # Private attribute\n",
        "\n",
        "    # Getter method\n",
        "    def get_name(self):\n",
        "        return self.__name\n",
        "\n",
        "    # Setter method\n",
        "    def set_name(self, name):\n",
        "        self.__name = name\n",
        "\n",
        "person = Person(\"Alice\", 30)\n",
        "print(person.get_name())  # Output: Alice\n",
        "person.set_name(\"Bob\")\n",
        "print(person.get_name())  # Output: Bob\n"
      ],
      "metadata": {
        "colab": {
          "base_uri": "https://localhost:8080/"
        },
        "id": "DPwe8HklujYc",
        "outputId": "2f1e03ae-7457-4225-e759-e684e66ae694"
      },
      "execution_count": null,
      "outputs": [
        {
          "output_type": "stream",
          "name": "stdout",
          "text": [
            "Alice\n",
            "Bob\n"
          ]
        }
      ]
    },
    {
      "cell_type": "markdown",
      "source": [
        "Explanation:\n",
        "\n",
        "* self.__name aur self.__age: Yeh private attributes hain jo directly access nahi kiye ja sakte.\n",
        "* get_name(), set_name(name): Yeh methods hain jo private attributes ko access aur modify karne ke liye use hote hain.\n",
        "* person = Person(\"Alice\", 30): Yeh ek naya object create karta hai.\n",
        "* print(person.get_name()): Yeh method call karke private attribute\n",
        "  __name ki value return karta hai."
      ],
      "metadata": {
        "id": "JsD_wz2T0Qn0"
      }
    },
    {
      "cell_type": "markdown",
      "source": [
        "Abstraction\n",
        "Abstraction means representing essential features without including the background details. It allows focusing on what an object does instead of how it does it.\n",
        "\n",
        "Example:"
      ],
      "metadata": {
        "id": "k3LjA7XIvpqO"
      }
    },
    {
      "cell_type": "code",
      "source": [
        "from abc import ABC, abstractmethod\n",
        "\n",
        "class Animal(ABC):\n",
        "    @abstractmethod\n",
        "    def make_sound(self):\n",
        "        pass\n",
        "\n",
        "class Dog(Animal):\n",
        "    def make_sound(self):\n",
        "        return \"Bark\"\n",
        "\n",
        "class Cat(Animal):\n",
        "    def make_sound(self):\n",
        "        return \"Meow\"\n",
        "\n",
        "# Creating objects of Dog and Cat classes\n",
        "dog = Dog()\n",
        "cat = Cat()\n",
        "print(dog.make_sound())  # Output: Bark\n",
        "print(cat.make_sound())  # Output: Meow\n"
      ],
      "metadata": {
        "id": "ao99ceRXvrC_"
      },
      "execution_count": null,
      "outputs": []
    },
    {
      "cell_type": "markdown",
      "source": [
        "Explanation:\n",
        "\n",
        "* class Animal(ABC): Yeh ek abstract base class define karta hai.\n",
        "* @abstractmethod def make_sound(self): Yeh ek abstract method define\n",
        "  karta hai jo subclasses mein implement karna zaroori hota hai.\n",
        "* Dog aur Cat classes Animal ko inherit karti hain aur make_sound() method ko implement karti hain."
      ],
      "metadata": {
        "id": "eAavaHgj0o9S"
      }
    },
    {
      "cell_type": "markdown",
      "source": [
        "Inheritance\n",
        "Inheritance is the mechanism by which one class (child class) can inherit the attributes and methods of another class (parent class).\n",
        "\n",
        "Example:"
      ],
      "metadata": {
        "id": "bK4Vz-mVyilp"
      }
    },
    {
      "cell_type": "code",
      "source": [
        "class Animal:\n",
        "    def __init__(self, name):\n",
        "        self.name = name\n",
        "\n",
        "    def eat(self):\n",
        "        return f\"{self.name} is eating.\"\n",
        "\n",
        "class Dog(Animal):\n",
        "    def bark(self):\n",
        "        return f\"{self.name} is barking.\"\n",
        "\n",
        "# Creating an object of the Dog class\n",
        "dog = Dog(\"Buddy\")\n",
        "print(dog.eat())  # Output: Buddy is eating.\n",
        "print(dog.bark())  # Output: Buddy is barking.\n"
      ],
      "metadata": {
        "id": "jcPcm7g6yj1g"
      },
      "execution_count": null,
      "outputs": []
    },
    {
      "cell_type": "markdown",
      "source": [
        "* class Animal: Yeh parent class define karta hai jisme name attribute aur eat() method hai.\n",
        "* class Dog(Animal): Yeh child class define karta hai jo Animal class ko inherit karti hai aur apna method bark() add karti hai.\n",
        "* dog = Dog(\"Buddy\"): Yeh Dog class ka object create karta hai aur Animal class ke attributes aur methods ko use karta hai."
      ],
      "metadata": {
        "id": "vp5yNhnO0wof"
      }
    },
    {
      "cell_type": "markdown",
      "source": [
        "Polymorphism\n",
        "\n",
        "Polymorphism allows methods to do different things based on the object it is acting upon, even if they share the same name."
      ],
      "metadata": {
        "id": "f6y-M5ANysoo"
      }
    },
    {
      "cell_type": "code",
      "source": [
        "class Bird:\n",
        "    def make_sound(self):\n",
        "        return \"Chirp\"\n",
        "\n",
        "class Cat:\n",
        "    def make_sound(self):\n",
        "        return \"Meow\"\n",
        "\n",
        "# Polymorphism in action\n",
        "def make_animal_sound(animal):\n",
        "    print(animal.make_sound())\n",
        "\n",
        "bird = Bird()\n",
        "cat = Cat()\n",
        "make_animal_sound(bird)  # Output: Chirp\n",
        "make_animal_sound(cat)   # Output: Meow\n"
      ],
      "metadata": {
        "id": "SVRQ6Vx5ysL5"
      },
      "execution_count": null,
      "outputs": []
    },
    {
      "cell_type": "markdown",
      "source": [
        "Explanation:\n",
        "\n",
        "Bird aur Cat classes dono make_sound() method ko define karti hain.\n",
        "\n",
        "make_animal_sound(animal): Yeh function kisi bhi object ko accept karta hai jo make_sound() method ko implement karta hai aur us method ko call karta hai.\n",
        "\n",
        "make_animal_sound(bird) aur make_animal_sound(cat): Yeh polymorphism ko demonstrate karta hai jahan ek hi function alag alag objects par different behavior show karta hai."
      ],
      "metadata": {
        "id": "5dxGaLmr0-Uj"
      }
    },
    {
      "cell_type": "code",
      "execution_count": null,
      "metadata": {
        "colab": {
          "base_uri": "https://localhost:8080/"
        },
        "id": "x46ffAlMqmey",
        "outputId": "06d97603-afa7-4cd0-9ba4-45ffdc1f3f22"
      },
      "outputs": [
        {
          "output_type": "stream",
          "name": "stdout",
          "text": [
            "blue\n"
          ]
        }
      ],
      "source": [
        "# object = Car\n",
        "class Car():\n",
        "  name = 'Car'\n",
        "  color = 'blue'\n",
        "  model = 'BMW'\n",
        "  def __init__(self):     # Constructor\n",
        "\n",
        "s1 = Car()\n",
        "print(s1.color)"
      ]
    },
    {
      "cell_type": "code",
      "source": [
        "class student():\n",
        "  name = 'Andleeb'\n",
        "  def __init__(self, name, secondname):\n",
        "    self.name = name\n",
        "    self.secondname = secondname\n",
        "\n",
        "s1 = student(\"Ayesha\", \"Andleeb\")\n",
        "s2 = student(\"Ayesha\", \"Fatima\")\n",
        "\n",
        "print(s1.name)\n",
        "print(s1.secondname)"
      ],
      "metadata": {
        "colab": {
          "base_uri": "https://localhost:8080/"
        },
        "id": "QHJkuYj9rXdr",
        "outputId": "68ed7241-3a5e-469a-ee17-7125713d71f7"
      },
      "execution_count": null,
      "outputs": [
        {
          "output_type": "stream",
          "name": "stdout",
          "text": [
            "Ayesha\n",
            "Andleeb\n"
          ]
        }
      ]
    }
  ]
}